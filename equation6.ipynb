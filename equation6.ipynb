{
 "cells": [
  {
   "cell_type": "code",
   "execution_count": 6,
   "metadata": {},
   "outputs": [
    {
     "data": {
      "image/png": "[encoded data removed]",
      "text/latex": [
       "$\\displaystyle \\frac{d^{2} m_{dot wi}}{D_{wi l}^{2} vp_{wi l} \\cos^{2}{\\left(\\delta \\right)} \\left|{\\cos{\\left(\\delta \\right)}}\\right|}$"
      ],
      "text/plain": [
       "           2                    \n",
       "          d ⋅m_dot_wi           \n",
       "────────────────────────────────\n",
       "      2            2            \n",
       "D_wi_l ⋅vp_wi_l⋅cos (δ)⋅│cos(δ)│"
      ]
     },
     "execution_count": 6,
     "metadata": {},
     "output_type": "execute_result"
    }
   ],
   "source": [
    "import sympy as sp\n",
    "\n",
    "sp.init_printing(use_unicode=True)\n",
    "\n",
    "\n",
    "m_dot_wi = sp.symbols('m_dot_wi')  # mass flux at a given radius w_i\n",
    "vp_wi_l = sp.symbols('vp_wi_l')    # velocity component at w_i and l\n",
    "delta = sp.symbols('delta')        # angle (radians) between the stream line and the disc normal\n",
    "d = sp.symbols('d')                # distance from the source point S to a point along the stream line\n",
    "D_wi_l = sp.symbols('D_wi_l')      # function D(w_i, l)\n",
    "\n",
    "\n",
    "rho_wi_l = (m_dot_wi / (vp_wi_l * sp.Abs(sp.cos(delta)))) * (d / (D_wi_l * sp.cos(delta)))**2\n",
    "\n",
    "\n",
    "rho_wi_l\n"
   ]
  },
  {
   "cell_type": "code",
   "execution_count": null,
   "metadata": {},
   "outputs": [],
   "source": []
  }
 ],
 "metadata": {
  "kernelspec": {
   "display_name": "Python 3",
   "language": "python",
   "name": "python3"
  },
  "language_info": {
   "codemirror_mode": {
    "name": "ipython",
    "version": 3
   },
   "file_extension": ".py",
   "mimetype": "text/x-python",
   "name": "python",
   "nbconvert_exporter": "python",
   "pygments_lexer": "ipython3",
   "version": "3.12.2"
  }
 },
 "nbformat": 4,
 "nbformat_minor": 2
}
